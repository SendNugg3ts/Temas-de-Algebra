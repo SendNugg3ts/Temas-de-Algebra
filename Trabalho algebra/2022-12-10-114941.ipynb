{
 "cells": [
  {
   "cell_type": "code",
   "execution_count": 1,
   "metadata": {
    "collapsed": false
   },
   "outputs": [
    {
     "data": {
      "text/html": [
       "<html>\\(\\displaystyle \\left(\\begin{array}{rrr}\n",
       "1 & 0 & 1 \\\\\n",
       "1 & -1 & 18 \\\\\n",
       "-2 & 0 & -1 \\\\\n",
       "1 & -11 & -1\n",
       "\\end{array}\\right)\\)</html>"
      ],
      "text/latex": [
       "$\\displaystyle \\left(\\begin{array}{rrr}\n",
       "1 & 0 & 1 \\\\\n",
       "1 & -1 & 18 \\\\\n",
       "-2 & 0 & -1 \\\\\n",
       "1 & -11 & -1\n",
       "\\end{array}\\right)$"
      ],
      "text/plain": [
       "[  1   0   1]\n",
       "[  1  -1  18]\n",
       "[ -2   0  -1]\n",
       "[  1 -11  -1]"
      ]
     },
     "execution_count": 1,
     "metadata": {
     },
     "output_type": "execute_result"
    }
   ],
   "source": [
    "A = matrix([[1,0,1], [1,-1,18], [-2,0,-1], [1,-11,-1]])\n",
    "pretty_print(A)"
   ]
  },
  {
   "cell_type": "code",
   "execution_count": 2,
   "metadata": {
    "collapsed": false
   },
   "outputs": [
    {
     "data": {
      "text/plain": [
       "[ 1]\n",
       "[ 1]\n",
       "[-2]\n",
       "[ 1]"
      ]
     },
     "execution_count": 2,
     "metadata": {
     },
     "output_type": "execute_result"
    }
   ],
   "source": [
    "a1 = A[:,0]\n",
    "a1"
   ]
  },
  {
   "cell_type": "code",
   "execution_count": 3,
   "metadata": {
    "collapsed": false
   },
   "outputs": [
    {
     "data": {
      "text/plain": [
       "[1]\n",
       "[0]\n",
       "[0]\n",
       "[0]"
      ]
     },
     "execution_count": 3,
     "metadata": {
     },
     "output_type": "execute_result"
    }
   ],
   "source": [
    "I4 = identity_matrix(4)\n",
    "e1 = I4[:,0]\n",
    "e1"
   ]
  },
  {
   "cell_type": "code",
   "execution_count": 4,
   "metadata": {
    "collapsed": false
   },
   "outputs": [
    {
     "data": {
      "text/plain": [
       "2.6457513110645907"
      ]
     },
     "execution_count": 4,
     "metadata": {
     },
     "output_type": "execute_result"
    }
   ],
   "source": [
    "norma_a1 = a1.norm()\n",
    "norma_a1"
   ]
  },
  {
   "cell_type": "code",
   "execution_count": 6,
   "metadata": {
    "collapsed": false
   },
   "outputs": [
    {
     "data": {
      "text/html": [
       "<html>\\(\\displaystyle \\left(\\begin{array}{r}\n",
       "3.6457513110645907 \\\\\n",
       "1.0 \\\\\n",
       "-2.0 \\\\\n",
       "1.0\n",
       "\\end{array}\\right) \\left(\\begin{array}{rrrr}\n",
       "-0.3779644730092271 & -0.3779644730092272 & 0.7559289460184544 & -0.3779644730092272 \\\\\n",
       "-0.3779644730092272 & 0.8963274121682046 & 0.2073451756635909 & -0.10367258783179545 \\\\\n",
       "0.7559289460184544 & 0.2073451756635909 & 0.5853096486728182 & 0.2073451756635909 \\\\\n",
       "-0.3779644730092272 & -0.10367258783179545 & 0.2073451756635909 & 0.8963274121682046\n",
       "\\end{array}\\right)\\)</html>"
      ],
      "text/latex": [
       "$\\displaystyle \\left(\\begin{array}{r}\n",
       "3.6457513110645907 \\\\\n",
       "1.0 \\\\\n",
       "-2.0 \\\\\n",
       "1.0\n",
       "\\end{array}\\right) \\left(\\begin{array}{rrrr}\n",
       "-0.3779644730092271 & -0.3779644730092272 & 0.7559289460184544 & -0.3779644730092272 \\\\\n",
       "-0.3779644730092272 & 0.8963274121682046 & 0.2073451756635909 & -0.10367258783179545 \\\\\n",
       "0.7559289460184544 & 0.2073451756635909 & 0.5853096486728182 & 0.2073451756635909 \\\\\n",
       "-0.3779644730092272 & -0.10367258783179545 & 0.2073451756635909 & 0.8963274121682046\n",
       "\\end{array}\\right)$"
      ],
      "text/plain": [
       "[3.6457513110645907]\n",
       "[               1.0]\n",
       "[              -2.0]\n",
       "[               1.0] [ -0.3779644730092271  -0.3779644730092272   0.7559289460184544  -0.3779644730092272]\n",
       "[ -0.3779644730092272   0.8963274121682046   0.2073451756635909 -0.10367258783179545]\n",
       "[  0.7559289460184544   0.2073451756635909   0.5853096486728182   0.2073451756635909]\n",
       "[ -0.3779644730092272 -0.10367258783179545   0.2073451756635909   0.8963274121682046]"
      ]
     },
     "execution_count": 6,
     "metadata": {
     },
     "output_type": "execute_result"
    }
   ],
   "source": [
    "u1 = a1+norma_a1*e1\n",
    "R1= I4-2*u1*transpose(u1)/(norm(u1)**2)\n",
    "pretty_print(u1, R1)"
   ]
  },
  {
   "cell_type": "code",
   "execution_count": 7,
   "metadata": {
    "collapsed": false
   },
   "outputs": [
    {
     "data": {
      "text/html": [
       "<html>\\(\\displaystyle \\left(\\begin{array}{rrr}\n",
       "-2.6457513110645903 & 4.535573676110726 & -7.559289460184544 \\\\\n",
       "1.1102230246251565 \\times 10^{-16} & 0.24407105398154538 & 15.65225635818666 \\\\\n",
       "-2.220446049250313 \\times 10^{-16} & -2.4881421079630908 & 3.6954872836266817 \\\\\n",
       "1.1102230246251565 \\times 10^{-16} & -9.755928946018454 & -3.3477436418133406\n",
       "\\end{array}\\right)\\)</html>"
      ],
      "text/latex": [
       "$\\displaystyle \\left(\\begin{array}{rrr}\n",
       "-2.6457513110645903 & 4.535573676110726 & -7.559289460184544 \\\\\n",
       "1.1102230246251565 \\times 10^{-16} & 0.24407105398154538 & 15.65225635818666 \\\\\n",
       "-2.220446049250313 \\times 10^{-16} & -2.4881421079630908 & 3.6954872836266817 \\\\\n",
       "1.1102230246251565 \\times 10^{-16} & -9.755928946018454 & -3.3477436418133406\n",
       "\\end{array}\\right)$"
      ],
      "text/plain": [
       "[   -2.6457513110645903      4.535573676110726     -7.559289460184544]\n",
       "[1.1102230246251565e-16    0.24407105398154538      15.65225635818666]\n",
       "[-2.220446049250313e-16    -2.4881421079630908     3.6954872836266817]\n",
       "[1.1102230246251565e-16     -9.755928946018454    -3.3477436418133406]"
      ]
     },
     "execution_count": 7,
     "metadata": {
     },
     "output_type": "execute_result"
    }
   ],
   "source": [
    "A2=R1*A\n",
    "pretty_print(A2)"
   ]
  },
  {
   "cell_type": "code",
   "execution_count": 9,
   "metadata": {
    "collapsed": false
   },
   "outputs": [
    {
     "data": {
      "text/plain": [
       "[0.24407105398154538   15.65225635818666]\n",
       "[-2.4881421079630908  3.6954872836266817]\n",
       "[ -9.755928946018454 -3.3477436418133406]"
      ]
     },
     "execution_count": 9,
     "metadata": {
     },
     "output_type": "execute_result"
    }
   ],
   "source": [
    "A2sub = A2[1:4, 1:4]\n",
    "A2sub"
   ]
  },
  {
   "cell_type": "code",
   "execution_count": 10,
   "metadata": {
    "collapsed": false
   },
   "outputs": [
    {
     "data": {
      "text/plain": [
       "[0.24407105398154538]\n",
       "[-2.4881421079630908]\n",
       "[ -9.755928946018454]"
      ]
     },
     "execution_count": 10,
     "metadata": {
     },
     "output_type": "execute_result"
    }
   ],
   "source": [
    "a2 = A2sub[:,0]\n",
    "a2"
   ]
  },
  {
   "cell_type": "code",
   "execution_count": 11,
   "metadata": {
    "collapsed": false
   },
   "outputs": [
   ],
   "source": [
    "I3 = identity_matrix(3)\n",
    "u2 = a2-norm(a2)*I3[:,0]"
   ]
  },
  {
   "cell_type": "code",
   "execution_count": 12,
   "metadata": {
    "collapsed": false
   },
   "outputs": [
    {
     "data": {
      "text/html": [
       "<html>\\(\\displaystyle \\left(\\begin{array}{rrr}\n",
       "0.024234614859382386 & -0.2470557844456891 & -0.9686981587752415 \\\\\n",
       "-0.2470557844456891 & 0.9374475037159893 & -0.24526642075218028 \\\\\n",
       "-0.9686981587752415 & -0.24526642075218028 & 0.03831788142462811\n",
       "\\end{array}\\right)\\)</html>"
      ],
      "text/latex": [
       "$\\displaystyle \\left(\\begin{array}{rrr}\n",
       "0.024234614859382386 & -0.2470557844456891 & -0.9686981587752415 \\\\\n",
       "-0.2470557844456891 & 0.9374475037159893 & -0.24526642075218028 \\\\\n",
       "-0.9686981587752415 & -0.24526642075218028 & 0.03831788142462811\n",
       "\\end{array}\\right)$"
      ],
      "text/plain": [
       "[0.024234614859382386  -0.2470557844456891  -0.9686981587752415]\n",
       "[ -0.2470557844456891   0.9374475037159893 -0.24526642075218028]\n",
       "[ -0.9686981587752415 -0.24526642075218028  0.03831788142462811]"
      ]
     },
     "execution_count": 12,
     "metadata": {
     },
     "output_type": "execute_result"
    }
   ],
   "source": [
    "R2sub = I3-2*u2*transpose(u2)/(norm(u2)**2)\n",
    "pretty_print(R2sub)"
   ]
  },
  {
   "cell_type": "code",
   "execution_count": 13,
   "metadata": {
    "collapsed": false
   },
   "outputs": [
    {
     "data": {
      "text/plain": [
       "[   10.071175275436897     2.709287996631619]\n",
       "[9.477474941462337e-16    0.4184339567566119]\n",
       "[4.448706659041815e-15   -16.196969297750854]"
      ]
     },
     "execution_count": 13,
     "metadata": {
     },
     "output_type": "execute_result"
    }
   ],
   "source": [
    "R2sub*A2sub"
   ]
  },
  {
   "cell_type": "code",
   "execution_count": 14,
   "metadata": {
    "collapsed": false
   },
   "outputs": [
   ],
   "source": [
    " R2 = block_diagonal_matrix( matrix([[1]]), R2sub)"
   ]
  },
  {
   "cell_type": "code",
   "execution_count": 15,
   "metadata": {
    "collapsed": false
   },
   "outputs": [
    {
     "data": {
      "text/html": [
       "<html>\\(\\displaystyle \\left(\\begin{array}{r|rrr}\n",
       "1.0 & 0.0 & 0.0 & 0.0 \\\\\n",
       "\\hline\n",
       " 0.0 & 0.024234614859382386 & -0.2470557844456891 & -0.9686981587752415 \\\\\n",
       "0.0 & -0.2470557844456891 & 0.9374475037159893 & -0.24526642075218028 \\\\\n",
       "0.0 & -0.9686981587752415 & -0.24526642075218028 & 0.03831788142462811\n",
       "\\end{array}\\right)\\)</html>"
      ],
      "text/latex": [
       "$\\displaystyle \\left(\\begin{array}{r|rrr}\n",
       "1.0 & 0.0 & 0.0 & 0.0 \\\\\n",
       "\\hline\n",
       " 0.0 & 0.024234614859382386 & -0.2470557844456891 & -0.9686981587752415 \\\\\n",
       "0.0 & -0.2470557844456891 & 0.9374475037159893 & -0.24526642075218028 \\\\\n",
       "0.0 & -0.9686981587752415 & -0.24526642075218028 & 0.03831788142462811\n",
       "\\end{array}\\right)$"
      ],
      "text/plain": [
       "[                 1.0|                 0.0                  0.0                  0.0]\n",
       "[--------------------+--------------------------------------------------------------]\n",
       "[                 0.0|0.024234614859382386  -0.2470557844456891  -0.9686981587752415]\n",
       "[                 0.0| -0.2470557844456891   0.9374475037159893 -0.24526642075218028]\n",
       "[                 0.0| -0.9686981587752415 -0.24526642075218028  0.03831788142462811]"
      ]
     },
     "execution_count": 15,
     "metadata": {
     },
     "output_type": "execute_result"
    }
   ],
   "source": [
    "pretty_print(R2)"
   ]
  },
  {
   "cell_type": "code",
   "execution_count": 20,
   "metadata": {
    "collapsed": false
   },
   "outputs": [
    {
     "data": {
      "text/plain": [
       "[    -2.6457513110645903       4.535573676110726      -7.559289460184544]\n",
       "[                    0.0      10.071175275436897       2.709287996631619]\n",
       "[ -1.503246312151152e-16  1.0613797167546846e-15     0.41843395675661194]\n",
       "[-1.3877787807814457e-17   4.371503159461554e-15      -16.19696929775085]"
      ]
     },
     "execution_count": 20,
     "metadata": {
     },
     "output_type": "execute_result"
    }
   ],
   "source": [
    "A3=R2*R1*A\n",
    "A3"
   ]
  },
  {
   "cell_type": "code",
   "execution_count": 21,
   "metadata": {
    "collapsed": false
   },
   "outputs": [
    {
     "data": {
      "text/plain": [
       "[0.41843395675661194]\n",
       "[ -16.19696929775085]"
      ]
     },
     "execution_count": 21,
     "metadata": {
     },
     "output_type": "execute_result"
    }
   ],
   "source": [
    "A3sub = A3[2:4, 2:4]\n",
    "A3sub"
   ]
  },
  {
   "cell_type": "code",
   "execution_count": 22,
   "metadata": {
    "collapsed": false
   },
   "outputs": [
    {
     "data": {
      "text/plain": [
       "[0.41843395675661194]\n",
       "[ -16.19696929775085]"
      ]
     },
     "execution_count": 22,
     "metadata": {
     },
     "output_type": "execute_result"
    }
   ],
   "source": [
    "a3 = A3sub[:,0]\n",
    "a3 #irrelevante este processo porque a matrix A3sub é 2x1"
   ]
  },
  {
   "cell_type": "code",
   "execution_count": 34,
   "metadata": {
    "collapsed": false
   },
   "outputs": [
    {
     "name": "stdout",
     "output_type": "stream",
     "text": [
      "[ 16.62080728316934]\n",
      "[-16.19696929775085]\n"
     ]
    }
   ],
   "source": [
    "I2 = identity_matrix(2)\n",
    "u3 = a3+norm(a3)*I1[:,0]\n",
    "print(u3)"
   ]
  },
  {
   "cell_type": "code",
   "execution_count": 35,
   "metadata": {
    "collapsed": false
   },
   "outputs": [
    {
     "data": {
      "text/html": [
       "<html>\\(\\displaystyle \\left(\\begin{array}{rr}\n",
       "-0.02582547311599681 & 0.9996664668469853 \\\\\n",
       "0.9996664668469853 & 0.025825473115996478\n",
       "\\end{array}\\right)\\)</html>"
      ],
      "text/latex": [
       "$\\displaystyle \\left(\\begin{array}{rr}\n",
       "-0.02582547311599681 & 0.9996664668469853 \\\\\n",
       "0.9996664668469853 & 0.025825473115996478\n",
       "\\end{array}\\right)$"
      ],
      "text/plain": [
       "[-0.02582547311599681   0.9996664668469853]\n",
       "[  0.9996664668469853 0.025825473115996478]"
      ]
     },
     "execution_count": 35,
     "metadata": {
     },
     "output_type": "execute_result"
    }
   ],
   "source": [
    "R3sub = I2-2*u3*transpose(u3)/(norm(u3)**2)\n",
    "pretty_print(R3sub)"
   ]
  },
  {
   "cell_type": "code",
   "execution_count": 36,
   "metadata": {
    "collapsed": false
   },
   "outputs": [
    {
     "data": {
      "text/plain": [
       "[    -16.20237332641273]\n",
       "[1.5326296090720176e-15]"
      ]
     },
     "execution_count": 36,
     "metadata": {
     },
     "output_type": "execute_result"
    }
   ],
   "source": [
    "R3sub*A3sub"
   ]
  },
  {
   "cell_type": "code",
   "execution_count": 40,
   "metadata": {
    "collapsed": false
   },
   "outputs": [
    {
     "data": {
      "text/html": [
       "<html>\\(\\displaystyle \\left(\\begin{array}{r|rrr}\n",
       "1.0 & 0.0 & 0.0 & 0.0 \\\\\n",
       "\\hline\n",
       " 0.0 & 1.0 & 0.0 & 0.0 \\\\\n",
       "0.0 & 0.0 & -0.02582547311599681 & 0.9996664668469853 \\\\\n",
       "0.0 & 0.0 & 0.9996664668469853 & 0.025825473115996478\n",
       "\\end{array}\\right)\\)</html>"
      ],
      "text/latex": [
       "$\\displaystyle \\left(\\begin{array}{r|rrr}\n",
       "1.0 & 0.0 & 0.0 & 0.0 \\\\\n",
       "\\hline\n",
       " 0.0 & 1.0 & 0.0 & 0.0 \\\\\n",
       "0.0 & 0.0 & -0.02582547311599681 & 0.9996664668469853 \\\\\n",
       "0.0 & 0.0 & 0.9996664668469853 & 0.025825473115996478\n",
       "\\end{array}\\right)$"
      ],
      "text/plain": [
       "[                 1.0|                 0.0                  0.0                  0.0]\n",
       "[--------------------+--------------------------------------------------------------]\n",
       "[                 0.0|                 1.0                  0.0                  0.0]\n",
       "[                 0.0|                 0.0 -0.02582547311599681   0.9996664668469853]\n",
       "[                 0.0|                 0.0   0.9996664668469853 0.025825473115996478]"
      ]
     },
     "execution_count": 40,
     "metadata": {
     },
     "output_type": "execute_result"
    }
   ],
   "source": [
    "R3 = block_diagonal_matrix( matrix([[1]]), R3sub)\n",
    "R3 = block_diagonal_matrix( matrix([[1]]), R3)\n",
    "pretty_print(R3)"
   ]
  },
  {
   "cell_type": "code",
   "execution_count": 51,
   "metadata": {
    "collapsed": false
   },
   "outputs": [
    {
     "data": {
      "text/html": [
       "<html>\\(\\displaystyle \\left(\\begin{array}{rrr}\n",
       "-2.6457513110645903 & 4.535573676110726 & -7.559289460184544 \\\\\n",
       "0.0 & 10.071175275436897 & 2.709287996631619 \\\\\n",
       "6.938893903907228 \\times 10^{-17} & 4.232725281383409 \\times 10^{-15} & -16.20237332641273 \\\\\n",
       "-2.3722343533982837 \\times 10^{-16} & 1.298006840899646 \\times 10^{-15} & 1.1254018550399536 \\times 10^{-15}\n",
       "\\end{array}\\right)\\)</html>"
      ],
      "text/latex": [
       "$\\displaystyle \\left(\\begin{array}{rrr}\n",
       "-2.6457513110645903 & 4.535573676110726 & -7.559289460184544 \\\\\n",
       "0.0 & 10.071175275436897 & 2.709287996631619 \\\\\n",
       "6.938893903907228 \\times 10^{-17} & 4.232725281383409 \\times 10^{-15} & -16.20237332641273 \\\\\n",
       "-2.3722343533982837 \\times 10^{-16} & 1.298006840899646 \\times 10^{-15} & 1.1254018550399536 \\times 10^{-15}\n",
       "\\end{array}\\right)$"
      ],
      "text/plain": [
       "[    -2.6457513110645903       4.535573676110726      -7.559289460184544]\n",
       "[                    0.0      10.071175275436897       2.709287996631619]\n",
       "[  6.938893903907228e-17   4.232725281383409e-15      -16.20237332641273]\n",
       "[-2.3722343533982837e-16   1.298006840899646e-15  1.1254018550399536e-15]"
      ]
     },
     "execution_count": 51,
     "metadata": {
     },
     "output_type": "execute_result"
    }
   ],
   "source": [
    "R=R3*R2*R1*A\n",
    "pretty_print(R)"
   ]
  },
  {
   "cell_type": "code",
   "execution_count": 44,
   "metadata": {
    "collapsed": false
   },
   "outputs": [
    {
     "data": {
      "text/html": [
       "<html>\\(\\displaystyle \\left(\\begin{array}{rrrr}\n",
       "-0.3779644730092271 & 0.17021704690879255 & 0.14308458473646415 & 0.8987189859434931 \\\\\n",
       "-0.3779644730092272 & 0.07092376954533043 & -0.9227477928174773 & -0.0254791465087072 \\\\\n",
       "0.7559289460184544 & -0.3404340938175852 & -0.34788852254880326 & 0.437778062740516 \\\\\n",
       "-0.3779644730092272 & -0.9220090040892934 & 0.08388616298340663 & 0.0023162860462460026\n",
       "\\end{array}\\right)\\)</html>"
      ],
      "text/latex": [
       "$\\displaystyle \\left(\\begin{array}{rrrr}\n",
       "-0.3779644730092271 & 0.17021704690879255 & 0.14308458473646415 & 0.8987189859434931 \\\\\n",
       "-0.3779644730092272 & 0.07092376954533043 & -0.9227477928174773 & -0.0254791465087072 \\\\\n",
       "0.7559289460184544 & -0.3404340938175852 & -0.34788852254880326 & 0.437778062740516 \\\\\n",
       "-0.3779644730092272 & -0.9220090040892934 & 0.08388616298340663 & 0.0023162860462460026\n",
       "\\end{array}\\right)$"
      ],
      "text/plain": [
       "[  -0.3779644730092271   0.17021704690879255   0.14308458473646415    0.8987189859434931]\n",
       "[  -0.3779644730092272   0.07092376954533043   -0.9227477928174773   -0.0254791465087072]\n",
       "[   0.7559289460184544   -0.3404340938175852  -0.34788852254880326     0.437778062740516]\n",
       "[  -0.3779644730092272   -0.9220090040892934   0.08388616298340663 0.0023162860462460026]"
      ]
     },
     "execution_count": 44,
     "metadata": {
     },
     "output_type": "execute_result"
    }
   ],
   "source": [
    "Q=R1*R2*R3\n",
    "pretty_print(Q)"
   ]
  },
  {
   "cell_type": "code",
   "execution_count": 54,
   "metadata": {
    "collapsed": false
   },
   "outputs": [
    {
     "name": "stdout",
     "output_type": "stream",
     "text": [
      "[  1.0   0.0   1.0]\n",
      "[  1.0  -1.0  18.0]\n",
      "[ -2.0  -0.0  -1.0]\n",
      "[  1.0 -11.0  -1.0]\n"
     ]
    }
   ],
   "source": [
    "print((Q*R).round())"
   ]
  },
  {
   "cell_type": "code",
   "execution_count": 55,
   "metadata": {
    "collapsed": false
   },
   "outputs": [
    {
     "name": "stdout",
     "output_type": "stream",
     "text": [
      "[  1   0   1]\n",
      "[  1  -1  18]\n",
      "[ -2   0  -1]\n",
      "[  1 -11  -1]\n"
     ]
    }
   ],
   "source": [
    "print(A)#A=QR logo a factorização foi bem sucedida"
   ]
  },
  {
   "cell_type": "code",
   "execution_count": 0,
   "metadata": {
    "collapsed": false
   },
   "outputs": [
   ],
   "source": [
    "#Rx=(Q^T)b\n",
    "b=matrix([[-1,-1,0,5]])\n",
    "b=transpose(b)\n",
    "b"
   ]
  }
 ],
 "metadata": {
  "kernelspec": {
   "display_name": "SageMath 9.7",
   "language": "sagemath",
   "metadata": {
    "cocalc": {
     "description": "Open-source mathematical software system",
     "priority": 10,
     "url": "https://www.sagemath.org/"
    }
   },
   "name": "sage-9.7",
   "resource_dir": "/ext/jupyter/kernels/sage-9.7"
  },
  "language_info": {
   "codemirror_mode": {
    "name": "ipython",
    "version": 3
   },
   "file_extension": ".py",
   "mimetype": "text/x-python",
   "name": "python",
   "nbconvert_exporter": "python",
   "pygments_lexer": "ipython3",
   "version": "3.10.5"
  }
 },
 "nbformat": 4,
 "nbformat_minor": 4
}