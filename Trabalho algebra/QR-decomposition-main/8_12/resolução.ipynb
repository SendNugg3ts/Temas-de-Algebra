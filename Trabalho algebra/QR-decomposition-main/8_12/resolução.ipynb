{
 "cells": [
  {
   "cell_type": "code",
   "execution_count": 1,
   "metadata": {},
   "outputs": [],
   "source": [
    "from scipy.linalg import qr\n",
    "import numpy as np\n",
    "from scipy.linalg import lstsq"
   ]
  },
  {
   "cell_type": "code",
   "execution_count": 2,
   "metadata": {},
   "outputs": [],
   "source": [
    "A = [[1,0,1], [1,-1,18], [-2,0,-1], [1,-11,-1]]#matriz A gerada no SageMath\n",
    "b = [[-1, -1, 0, 5]]#vetor b gerado no SageMath\n",
    "Q, R = qr(A)#Factorização QR onde se obtém Matriz ortonormada Q e matriz triangular superior R"
   ]
  },
  {
   "cell_type": "code",
   "execution_count": 5,
   "metadata": {},
   "outputs": [
    {
     "name": "stdout",
     "output_type": "stream",
     "text": [
      "Matriz Q:\n",
      "[[-0.37796447 -0.17021705  0.14308458 -0.89871899]\n",
      " [-0.37796447 -0.07092377 -0.92274779  0.02547915]\n",
      " [ 0.75592895  0.34043409 -0.34788852 -0.43777806]\n",
      " [-0.37796447  0.922009    0.08388616 -0.00231629]]\n",
      "Matriz R:\n",
      "[[ -2.64575131   4.53557368  -7.55928946]\n",
      " [  0.         -10.07117528  -2.709288  ]\n",
      " [  0.           0.         -16.20237333]\n",
      " [  0.           0.           0.        ]]\n"
     ]
    }
   ],
   "source": [
    "print(f\"Matriz Q:\\n{Q}\")\n",
    "print(f\"Matriz R:\\n{R}\")"
   ]
  },
  {
   "cell_type": "code",
   "execution_count": 6,
   "metadata": {},
   "outputs": [
    {
     "name": "stdout",
     "output_type": "stream",
     "text": [
      "[[-1]\n",
      " [-1]\n",
      " [ 0]\n",
      " [ 5]]\n"
     ]
    }
   ],
   "source": [
    "b=np.transpose(b)#transpor b para ficar 4x1\n",
    "print(b)"
   ]
  },
  {
   "cell_type": "code",
   "execution_count": 7,
   "metadata": {},
   "outputs": [
    {
     "name": "stdout",
     "output_type": "stream",
     "text": [
      "[[-1.13389342]\n",
      " [ 4.85118584]\n",
      " [ 1.19909402]\n",
      " [ 0.86165841]]\n"
     ]
    }
   ],
   "source": [
    "Qtb= np.transpose(Q) @ b #operação Q^T * b\n",
    "print(Qtb)"
   ]
  },
  {
   "cell_type": "code",
   "execution_count": 8,
   "metadata": {},
   "outputs": [],
   "source": [
    "x = lstsq(R, Qtb)#Solução final usando a função lstsq que da output da solução dos minimos quadrados para Ax=b,\n",
    "                 #Neste caso Rx=Q^T * b"
   ]
  },
  {
   "cell_type": "code",
   "execution_count": 9,
   "metadata": {},
   "outputs": [
    {
     "name": "stdout",
     "output_type": "stream",
     "text": [
      "[[-0.15160392]\n",
      " [-0.46178113]\n",
      " [-0.07400731]]\n"
     ]
    }
   ],
   "source": [
    "print(x[0])#O output da função são 4 arrays, no caso queremos o primeiro que respresenta a solução de x"
   ]
  }
 ],
 "metadata": {
  "kernelspec": {
   "display_name": "Python 3",
   "language": "python",
   "name": "python3"
  },
  "language_info": {
   "codemirror_mode": {
    "name": "ipython",
    "version": 3
   },
   "file_extension": ".py",
   "mimetype": "text/x-python",
   "name": "python",
   "nbconvert_exporter": "python",
   "pygments_lexer": "ipython3",
   "version": "3.10.6"
  },
  "orig_nbformat": 4,
  "vscode": {
   "interpreter": {
    "hash": "9b35b09b2ba89a5b0b9af0c7410f516c4f41e460e660a252562e591afc956a6e"
   }
  }
 },
 "nbformat": 4,
 "nbformat_minor": 2
}
